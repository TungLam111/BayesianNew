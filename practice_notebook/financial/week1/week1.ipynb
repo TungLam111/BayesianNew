{
 "cells": [
  {
   "cell_type": "code",
   "execution_count": 1,
   "metadata": {},
   "outputs": [],
   "source": [
    "import pandas as pd\n",
    "import numpy as np\n",
    "import matplotlib.pyplot as plt\n",
    "import seaborn as sns\n",
    "from scipy import stats"
   ]
  },
  {
   "cell_type": "code",
   "execution_count": 7,
   "metadata": {},
   "outputs": [
    {
     "data": {
      "text/html": [
       "<div>\n",
       "<style scoped>\n",
       "    .dataframe tbody tr th:only-of-type {\n",
       "        vertical-align: middle;\n",
       "    }\n",
       "\n",
       "    .dataframe tbody tr th {\n",
       "        vertical-align: top;\n",
       "    }\n",
       "\n",
       "    .dataframe thead th {\n",
       "        text-align: right;\n",
       "    }\n",
       "</style>\n",
       "<table border=\"1\" class=\"dataframe\">\n",
       "  <thead>\n",
       "    <tr style=\"text-align: right;\">\n",
       "      <th></th>\n",
       "      <th>Date</th>\n",
       "      <th>Open</th>\n",
       "      <th>High</th>\n",
       "      <th>Low</th>\n",
       "      <th>Close</th>\n",
       "      <th>Adj Close</th>\n",
       "      <th>Volume</th>\n",
       "      <th>MA10</th>\n",
       "      <th>MA50</th>\n",
       "    </tr>\n",
       "  </thead>\n",
       "  <tbody>\n",
       "    <tr>\n",
       "      <th>49</th>\n",
       "      <td>2006-12-11</td>\n",
       "      <td>12.700000</td>\n",
       "      <td>12.757143</td>\n",
       "      <td>12.578571</td>\n",
       "      <td>12.678572</td>\n",
       "      <td>8.582845</td>\n",
       "      <td>124945100</td>\n",
       "      <td>12.898000</td>\n",
       "      <td>11.761714</td>\n",
       "    </tr>\n",
       "    <tr>\n",
       "      <th>50</th>\n",
       "      <td>2006-12-12</td>\n",
       "      <td>12.658571</td>\n",
       "      <td>12.691428</td>\n",
       "      <td>12.218572</td>\n",
       "      <td>12.305715</td>\n",
       "      <td>8.330432</td>\n",
       "      <td>256655000</td>\n",
       "      <td>12.817000</td>\n",
       "      <td>11.793943</td>\n",
       "    </tr>\n",
       "    <tr>\n",
       "      <th>51</th>\n",
       "      <td>2006-12-13</td>\n",
       "      <td>12.564285</td>\n",
       "      <td>12.724286</td>\n",
       "      <td>12.450000</td>\n",
       "      <td>12.721429</td>\n",
       "      <td>8.611856</td>\n",
       "      <td>214263000</td>\n",
       "      <td>12.777714</td>\n",
       "      <td>11.836714</td>\n",
       "    </tr>\n",
       "    <tr>\n",
       "      <th>52</th>\n",
       "      <td>2006-12-14</td>\n",
       "      <td>12.721429</td>\n",
       "      <td>12.857142</td>\n",
       "      <td>12.608571</td>\n",
       "      <td>12.650000</td>\n",
       "      <td>8.563499</td>\n",
       "      <td>208082700</td>\n",
       "      <td>12.733286</td>\n",
       "      <td>11.874343</td>\n",
       "    </tr>\n",
       "    <tr>\n",
       "      <th>53</th>\n",
       "      <td>2006-12-15</td>\n",
       "      <td>12.717143</td>\n",
       "      <td>12.745714</td>\n",
       "      <td>12.475715</td>\n",
       "      <td>12.531428</td>\n",
       "      <td>8.483233</td>\n",
       "      <td>184984800</td>\n",
       "      <td>12.681857</td>\n",
       "      <td>11.911171</td>\n",
       "    </tr>\n",
       "  </tbody>\n",
       "</table>\n",
       "</div>"
      ],
      "text/plain": [
       "          Date       Open       High        Low      Close  Adj Close  \\\n",
       "49  2006-12-11  12.700000  12.757143  12.578571  12.678572   8.582845   \n",
       "50  2006-12-12  12.658571  12.691428  12.218572  12.305715   8.330432   \n",
       "51  2006-12-13  12.564285  12.724286  12.450000  12.721429   8.611856   \n",
       "52  2006-12-14  12.721429  12.857142  12.608571  12.650000   8.563499   \n",
       "53  2006-12-15  12.717143  12.745714  12.475715  12.531428   8.483233   \n",
       "\n",
       "       Volume       MA10       MA50  \n",
       "49  124945100  12.898000  11.761714  \n",
       "50  256655000  12.817000  11.793943  \n",
       "51  214263000  12.777714  11.836714  \n",
       "52  208082700  12.733286  11.874343  \n",
       "53  184984800  12.681857  11.911171  "
      ]
     },
     "execution_count": 7,
     "metadata": {},
     "output_type": "execute_result"
    }
   ],
   "source": [
    "df = pd.read_csv(\"../data/apple.csv\")\n",
    "df['MA10'] = df['Close'].rolling(10).mean()\n",
    "df['MA50'] = df['Close'].rolling(50).mean()\n",
    "df = df.dropna()\n",
    "df.head()"
   ]
  },
  {
   "cell_type": "code",
   "execution_count": 2,
   "metadata": {},
   "outputs": [
    {
     "name": "stdout",
     "output_type": "stream",
     "text": [
      "[[False False False]\n",
      " [ True  True  True]\n",
      " [ True  True  True]]\n"
     ]
    }
   ],
   "source": [
    "a = np.array([[1,1,1],[2,2,2],[3,3,3]])\n",
    "b = np.array([[2,2,2],[2,2,2],[3,3,3]])\n",
    "print(a * b * a == b * a * b)"
   ]
  }
 ],
 "metadata": {
  "interpreter": {
   "hash": "4c65b98e956c6ae24f8ae0bc56d1e465ff92310dbdec0a4bd6b48ffdf1441c98"
  },
  "kernelspec": {
   "display_name": "Python 3.6.7 64-bit",
   "name": "python3"
  },
  "language_info": {
   "codemirror_mode": {
    "name": "ipython",
    "version": 3
   },
   "file_extension": ".py",
   "mimetype": "text/x-python",
   "name": "python",
   "nbconvert_exporter": "python",
   "pygments_lexer": "ipython3",
   "version": "3.6.7"
  },
  "orig_nbformat": 4
 },
 "nbformat": 4,
 "nbformat_minor": 2
}
